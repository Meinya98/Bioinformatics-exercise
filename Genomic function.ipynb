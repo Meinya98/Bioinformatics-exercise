{
 "cells": [
  {
   "attachments": {},
   "cell_type": "markdown",
   "metadata": {},
   "source": [
    "Genomic function"
   ]
  },
  {
   "attachments": {},
   "cell_type": "markdown",
   "metadata": {},
   "source": [
    "1. DNA Sequence Replication\\\n",
    "Take DNA sequence and return its complement respectively."
   ]
  },
  {
   "cell_type": "code",
   "execution_count": 1,
   "metadata": {},
   "outputs": [],
   "source": [
    "def complement(sequence):\n",
    "    sequence.upper()\n",
    "    complement_dict = {'A': 'T', 'T': 'A', 'C': 'G', 'G': 'C'}\n",
    "    return ''.join(complement_dict[base] for base in sequence)"
   ]
  },
  {
   "attachments": {},
   "cell_type": "markdown",
   "metadata": {},
   "source": [
    "2. DNA Transcription to mRNA\\\n",
    "Takes a DNA sequence and returns its corresponding mRNA sequence."
   ]
  },
  {
   "cell_type": "code",
   "execution_count": 2,
   "metadata": {},
   "outputs": [],
   "source": [
    "def transcribe_to_mRNA(sequence):\n",
    "    sequence.upper()\n",
    "    transcription_dict = {'A': 'U', 'T': 'A', 'C': 'G', 'G': 'C'}\n",
    "    return ''.join(transcription_dict[base] for base in sequence)"
   ]
  },
  {
   "attachments": {},
   "cell_type": "markdown",
   "metadata": {},
   "source": [
    "3. mRNA Translation to Amino Acid\\\n",
    "Takes a mRNA sequence and returns the corresponding amino acid sequence.\\\n",
    "It will show codon from Methionine and stop until STOP codon"
   ]
  },
  {
   "cell_type": "code",
   "execution_count": 3,
   "metadata": {},
   "outputs": [],
   "source": [
    "codon_table = {\n",
    "    'UUU': 'Phe', 'UUC': 'Phe', 'UUA': 'Leu', 'UUG': 'Leu',\n",
    "    'CUU': 'Leu', 'CUC': 'Leu', 'CUA': 'Leu', 'CUG': 'Leu',\n",
    "    'AUU': 'Ile', 'AUC': 'Ile', 'AUA': 'Ile', 'AUG': 'Met',\n",
    "    'GUU': 'Val', 'GUC': 'Val', 'GUA': 'Val', 'GUG': 'Val',\n",
    "    'UCU': 'Ser', 'UCC': 'Ser', 'UCA': 'Ser', 'UCG': 'Ser',\n",
    "    'CCU': 'Pro', 'CCC': 'Pro', 'CCA': 'Pro', 'CCG': 'Pro',\n",
    "    'ACU': 'Thr', 'ACC': 'Thr', 'ACA': 'Thr', 'ACG': 'Thr',\n",
    "    'GCU': 'Ala', 'GCC': 'Ala', 'GCA': 'Ala', 'GCG': 'Ala',\n",
    "    'UAU': 'Tyr', 'UAC': 'Tyr', 'UAA': 'STOP', 'UAG': 'STOP',\n",
    "    'CAU': 'His', 'CAC': 'His', 'CAA': 'Gln', 'CAG': 'Gln',\n",
    "    'AAU': 'Asn', 'AAC': 'Asn', 'AAA': 'Lys', 'AAG': 'Lys',\n",
    "    'GAU': 'Asp', 'GAC': 'Asp', 'GAA': 'Glu', 'GAG': 'Glu',\n",
    "    'UGU': 'Cys', 'UGC': 'Cys', 'UGA': 'STOP', 'UGG': 'Trp',\n",
    "    'CGU': 'Arg', 'CGC': 'Arg', 'CGA': 'Arg', 'CGG': 'Arg',\n",
    "    'AGU': 'Ser', 'AGC': 'Ser', 'AGA': 'Arg', 'AGG': 'Arg',\n",
    "    'GGU': 'Gly', 'GGC': 'Gly', 'GGA': 'Gly', 'GGG': 'Gly'\n",
    "}\n",
    "\n",
    "def translate_to_amino_acid(mRNA_sequence):\n",
    "    mRNA_sequence.upper()\n",
    "    # Find Met (AUG)\n",
    "    start_index = mRNA_sequence.find('AUG')\n",
    "    if start_index == -1:\n",
    "        raise ValueError(\"No start codon (AUG) found in the mRNA sequence\")\n",
    "    # Create codons starting from the first AUG codon\n",
    "    codons = [mRNA_sequence[i:i+3] for i in range(start_index, len(mRNA_sequence), 3)]\n",
    "\n",
    "    amino_acids = []\n",
    "    for codon in codons:\n",
    "        try:\n",
    "            if codon_table.get(codon) != 'STOP':\n",
    "                amino_acids.append(codon_table[codon])\n",
    "            else:\n",
    "                break\n",
    "        except KeyError:\n",
    "            print(f\"Invalid codon: {codon}\")\n",
    "            raise\n",
    "\n",
    "    return amino_acids\n"
   ]
  },
  {
   "cell_type": "code",
   "execution_count": 5,
   "metadata": {},
   "outputs": [
    {
     "ename": "SyntaxError",
     "evalue": "incomplete input (3220874788.py, line 2)",
     "output_type": "error",
     "traceback": [
      "\u001b[1;36m  Cell \u001b[1;32mIn[5], line 2\u001b[1;36m\u001b[0m\n\u001b[1;33m    \u001b[0m\n\u001b[1;37m    ^\u001b[0m\n\u001b[1;31mSyntaxError\u001b[0m\u001b[1;31m:\u001b[0m incomplete input\n"
     ]
    }
   ],
   "source": [
    "#def amino_acid_to_fasta(amino_acid):\n",
    "    "
   ]
  },
  {
   "attachments": {},
   "cell_type": "markdown",
   "metadata": {},
   "source": [
    "Testing"
   ]
  },
  {
   "cell_type": "code",
   "execution_count": 8,
   "metadata": {},
   "outputs": [
    {
     "name": "stdout",
     "output_type": "stream",
     "text": [
      "Original DNA Sequence: TGCATGATGTCATCGATCGATCGATCGATCGATCGATCGATCGATGCTAGC\n",
      "Complement DNA Sequence: ACGTACTACAGTAGCTAGCTAGCTAGCTAGCTAGCTAGCTAGCTACGATCG\n",
      "mRNA Sequence: ACGUACUACAGUAGCUAGCUAGCUAGCUAGCUAGCUAGCUAGCUACGAUCG\n"
     ]
    }
   ],
   "source": [
    "dna_sequence = \"TGCATGATGTCATCGATCGATCGATCGATCGATCGATCGATCGATGCTAGC\"\n",
    "complement_sequence = complement(dna_sequence)\n",
    "mRNA_sequence = transcribe_to_mRNA(dna_sequence)\n",
    "\n",
    "print(f\"Original DNA Sequence: {dna_sequence}\")\n",
    "print(f\"Complement DNA Sequence: {complement_sequence}\")\n",
    "print(f\"mRNA Sequence: {mRNA_sequence}\")"
   ]
  },
  {
   "cell_type": "code",
   "execution_count": 9,
   "metadata": {},
   "outputs": [
    {
     "ename": "ValueError",
     "evalue": "No start codon (AUG) found in the mRNA sequence",
     "output_type": "error",
     "traceback": [
      "\u001b[1;31m---------------------------------------------------------------------------\u001b[0m",
      "\u001b[1;31mValueError\u001b[0m                                Traceback (most recent call last)",
      "Cell \u001b[1;32mIn[9], line 1\u001b[0m\n\u001b[1;32m----> 1\u001b[0m amino_acid_sequence \u001b[39m=\u001b[39m translate_to_amino_acid(mRNA_sequence)\n\u001b[0;32m      2\u001b[0m aa_count \u001b[39m=\u001b[39m \u001b[39mlen\u001b[39m(amino_acid_sequence)\n\u001b[0;32m      3\u001b[0m \u001b[39mprint\u001b[39m(\u001b[39mf\u001b[39m\u001b[39m\"\u001b[39m\u001b[39mTranslated Amino Acid Sequence: \u001b[39m\u001b[39m{\u001b[39;00mamino_acid_sequence\u001b[39m}\u001b[39;00m\u001b[39m\"\u001b[39m)\n",
      "Cell \u001b[1;32mIn[3], line 24\u001b[0m, in \u001b[0;36mtranslate_to_amino_acid\u001b[1;34m(mRNA_sequence)\u001b[0m\n\u001b[0;32m     22\u001b[0m start_index \u001b[39m=\u001b[39m mRNA_sequence\u001b[39m.\u001b[39mfind(\u001b[39m'\u001b[39m\u001b[39mAUG\u001b[39m\u001b[39m'\u001b[39m)\n\u001b[0;32m     23\u001b[0m \u001b[39mif\u001b[39;00m start_index \u001b[39m==\u001b[39m \u001b[39m-\u001b[39m\u001b[39m1\u001b[39m:\n\u001b[1;32m---> 24\u001b[0m     \u001b[39mraise\u001b[39;00m \u001b[39mValueError\u001b[39;00m(\u001b[39m\"\u001b[39m\u001b[39mNo start codon (AUG) found in the mRNA sequence\u001b[39m\u001b[39m\"\u001b[39m)\n\u001b[0;32m     25\u001b[0m \u001b[39m# Create codons starting from the first AUG codon\u001b[39;00m\n\u001b[0;32m     26\u001b[0m codons \u001b[39m=\u001b[39m [mRNA_sequence[i:i\u001b[39m+\u001b[39m\u001b[39m3\u001b[39m] \u001b[39mfor\u001b[39;00m i \u001b[39min\u001b[39;00m \u001b[39mrange\u001b[39m(start_index, \u001b[39mlen\u001b[39m(mRNA_sequence), \u001b[39m3\u001b[39m)]\n",
      "\u001b[1;31mValueError\u001b[0m: No start codon (AUG) found in the mRNA sequence"
     ]
    }
   ],
   "source": [
    "amino_acid_sequence = translate_to_amino_acid(mRNA_sequence)\n",
    "aa_count = len(amino_acid_sequence)\n",
    "print(f\"Translated Amino Acid Sequence: {amino_acid_sequence}\")\n",
    "print(f\"Total translated amino acid: {aa_count}\")"
   ]
  }
 ],
 "metadata": {
  "kernelspec": {
   "display_name": "base",
   "language": "python",
   "name": "python3"
  },
  "language_info": {
   "codemirror_mode": {
    "name": "ipython",
    "version": 3
   },
   "file_extension": ".py",
   "mimetype": "text/x-python",
   "name": "python",
   "nbconvert_exporter": "python",
   "pygments_lexer": "ipython3",
   "version": "3.10.9"
  },
  "orig_nbformat": 4
 },
 "nbformat": 4,
 "nbformat_minor": 2
}
